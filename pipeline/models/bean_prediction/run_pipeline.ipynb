{
 "cells": [
  {
   "cell_type": "code",
   "execution_count": 1,
   "metadata": {},
   "outputs": [],
   "source": [
    "import json\n",
    "JOB_NAME = 'bean-type-prediction-v2'\n",
    "PIPELINE = 'gs://zencore-vertex-pipeline-artifacts/compiledpipelines/bean-type-prediction-pipeline.json'\n",
    "MODEL = 'gs://zencore-vertex-models/beans1'\n",
    "SPARK_JOB = 'gs://zencore-vertex-pipeline-artifacts/sparkjobs/preprocess.py'\n",
    "INPUT_TABLE = 'sara-vertex-demos:beans_demo.large_dataset'\n",
    "OUTPUT_SCHEMA = json.load(open('./schema.json', 'r'))\n",
    "\n",
    "PROJECT_ID = 'zencore-vertex'\n",
    "REGION = 'us-east1'"
   ]
  },
  {
   "cell_type": "code",
   "execution_count": 4,
   "metadata": {},
   "outputs": [],
   "source": [
    "from google.cloud import aiplatform\n",
    "\n",
    "pipeline_job = aiplatform.PipelineJob(\n",
    "    project=PROJECT_ID,\n",
    "    location=REGION,\n",
    "    display_name=JOB_NAME,\n",
    "    template_path=PIPELINE,\n",
    "    pipeline_root=f\"gs://{PROJECT_ID}-pipeline-artifacts\",\n",
    "    parameter_values={\n",
    "        \"project_id\": PROJECT_ID,\n",
    "        \"location\": REGION,\n",
    "        \"display_name\": JOB_NAME,\n",
    "        \"dataproc_cluster\": \"dataproc\",\n",
    "        \"dataproc_python_file\": SPARK_JOB,\n",
    "        \"input_table\": INPUT_TABLE,\n",
    "        \"preprocess_args\": [\"--sample-fraction\", \"1.0\"],\n",
    "        \"model_uri\": MODEL,\n",
    "        \"staging_bucket\": f\"gs://{PROJECT_ID}-pipeline-artifacts\",\n",
    "        \"load_args\": [\"--schema\", json.dumps(OUTPUT_SCHEMA)],\n",
    "        \"output_destination\": f\"{PROJECT_ID}:vertex.prediction\"\n",
    "    }\n",
    ")"
   ]
  },
  {
   "cell_type": "code",
   "execution_count": 5,
   "metadata": {},
   "outputs": [
    {
     "name": "stdout",
     "output_type": "stream",
     "text": [
      "INFO:google.cloud.aiplatform.pipeline_jobs:Creating PipelineJob\n",
      "INFO:google.cloud.aiplatform.pipeline_jobs:PipelineJob created. Resource name: projects/576839278996/locations/us-east1/pipelineJobs/scikit-batch-prediction-20211115102011\n",
      "INFO:google.cloud.aiplatform.pipeline_jobs:To use this PipelineJob in another session:\n",
      "INFO:google.cloud.aiplatform.pipeline_jobs:pipeline_job = aiplatform.PipelineJob.get('projects/576839278996/locations/us-east1/pipelineJobs/scikit-batch-prediction-20211115102011')\n",
      "INFO:google.cloud.aiplatform.pipeline_jobs:View Pipeline Job:\n",
      "https://console.cloud.google.com/vertex-ai/locations/us-east1/pipelines/runs/scikit-batch-prediction-20211115102011?project=576839278996\n"
     ]
    }
   ],
   "source": [
    "pipeline_job.submit(service_account=f\"vertex-pipeline@{PROJECT_ID}.iam.gserviceaccount.com\")"
   ]
  },
  {
   "cell_type": "code",
   "execution_count": 6,
   "metadata": {},
   "outputs": [
    {
     "data": {
      "text/plain": [
       "<PipelineState.PIPELINE_STATE_RUNNING: 3>"
      ]
     },
     "execution_count": 6,
     "metadata": {},
     "output_type": "execute_result"
    }
   ],
   "source": [
    "pipeline_job.state"
   ]
  }
 ],
 "metadata": {
  "interpreter": {
   "hash": "73ab3bbf837c50f1695b8ee7143d79d1228d90b8268350da92241914b98975f1"
  },
  "kernelspec": {
   "display_name": "Python 3.7.11 64-bit ('vertex-scikit': venv)",
   "name": "python3"
  },
  "language_info": {
   "codemirror_mode": {
    "name": "ipython",
    "version": 3
   },
   "file_extension": ".py",
   "mimetype": "text/x-python",
   "name": "python",
   "nbconvert_exporter": "python",
   "pygments_lexer": "ipython3",
   "version": "3.7.11"
  },
  "orig_nbformat": 4
 },
 "nbformat": 4,
 "nbformat_minor": 2
}
