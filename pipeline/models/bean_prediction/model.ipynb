{
 "cells": [
  {
   "cell_type": "code",
   "execution_count": 1,
   "metadata": {},
   "outputs": [],
   "source": [
    "from sklearn.tree import DecisionTreeClassifier\n",
    "from sklearn.linear_model import LogisticRegression\n",
    "from sklearn.metrics import roc_curve\n",
    "from sklearn.model_selection import train_test_split\n",
    "from google.cloud import bigquery\n",
    "from google.cloud import storage\n",
    "import joblib\n",
    "\n",
    "import os\n",
    "import pandas as pd\n",
    "\n",
    "bqclient = bigquery.Client()\n",
    "storage_client = storage.Client()"
   ]
  },
  {
   "cell_type": "code",
   "execution_count": 2,
   "metadata": {},
   "outputs": [],
   "source": [
    "def download_table(bq_table_uri: str):\n",
    "    prefix = \"bq://\"\n",
    "    if bq_table_uri.startswith(prefix):\n",
    "        bq_table_uri = bq_table_uri[len(prefix):]\n",
    "\n",
    "    table = bigquery.TableReference.from_string(bq_table_uri)\n",
    "    rows = bqclient.list_rows(\n",
    "        table,\n",
    "    )\n",
    "    return rows.to_dataframe(create_bqstorage_client=False)\n",
    "\n",
    "data_uri = \"sara-vertex-demos.beans_demo.large_dataset\"\n",
    "\n",
    "# Download data into Pandas DataFrames, split into train / test\n",
    "df = download_table(data_uri)\n",
    "train_df, test_df = train_test_split(df, test_size=0.5, random_state=42)\n",
    "\n",
    "labels = train_df.pop(\"Class\").tolist()\n",
    "data = train_df.values.tolist()\n",
    "test_labels = test_df.pop(\"Class\").tolist()\n",
    "test_data = test_df.values.tolist()"
   ]
  },
  {
   "cell_type": "code",
   "execution_count": 3,
   "metadata": {},
   "outputs": [
    {
     "name": "stdout",
     "output_type": "stream",
     "text": [
      "Model 1 accuracy is: 0.8878930355568616\n"
     ]
    }
   ],
   "source": [
    "# Define and train the Scikit model\n",
    "skmodel1 = DecisionTreeClassifier()\n",
    "skmodel1.fit(data, labels)\n",
    "score1 = skmodel1.score(test_data, test_labels)\n",
    "print('Model 1 accuracy is:', score1)"
   ]
  },
  {
   "cell_type": "code",
   "execution_count": 4,
   "metadata": {},
   "outputs": [
    {
     "data": {
      "text/plain": [
       "array(['DERMASON'], dtype='<U8')"
      ]
     },
     "execution_count": 4,
     "metadata": {},
     "output_type": "execute_result"
    }
   ],
   "source": [
    "skmodel1.predict([[23288,558.113,207.567738,143.085693,1.450653336,0.7244336162,23545,172.1952453,0.8045881703,0.9890847314,0.9395021523,0.8295857874,0.008913077034,0.002604069884,0.6882125787,0.9983578734]])"
   ]
  },
  {
   "cell_type": "code",
   "execution_count": 4,
   "metadata": {},
   "outputs": [
    {
     "name": "stdout",
     "output_type": "stream",
     "text": [
      "Model 2 accuracy is: 0.8620334998530709\n"
     ]
    }
   ],
   "source": [
    "skmodel2 = LogisticRegression(solver='liblinear')\n",
    "skmodel2.fit(data, labels)\n",
    "score1 = skmodel2.score(test_data, test_labels)\n",
    "print('Model 2 accuracy is:', score1)"
   ]
  },
  {
   "cell_type": "code",
   "execution_count": 6,
   "metadata": {},
   "outputs": [
    {
     "data": {
      "text/plain": [
       "array(['DERMASON'], dtype='<U8')"
      ]
     },
     "execution_count": 6,
     "metadata": {},
     "output_type": "execute_result"
    }
   ],
   "source": [
    "skmodel2.predict([[23288,558.113,207.567738,143.085693,1.450653336,0.7244336162,23545,172.1952453,0.8045881703,0.9890847314,0.9395021523,0.8295857874,0.008913077034,0.002604069884,0.6882125787,0.9983578734]])"
   ]
  },
  {
   "cell_type": "code",
   "execution_count": 5,
   "metadata": {},
   "outputs": [],
   "source": [
    "joblib.dump(skmodel1, 'model1.joblib')\n",
    "blob = storage.blob.Blob.from_string(f\"gs://zencore-vertex-models/beans1/model.joblib\", client=storage_client)\n",
    "blob.upload_from_filename('model1.joblib')\n",
    "\n",
    "joblib.dump(skmodel2, 'model2.joblib')\n",
    "blob = storage.blob.Blob.from_string(f\"gs://zencore-vertex-models/beans2/model.joblib\", client=storage_client)\n",
    "blob.upload_from_filename('model2.joblib')"
   ]
  }
 ],
 "metadata": {
  "environment": {
   "kernel": "python3",
   "name": "managed-notebooks.m82",
   "type": "gcloud",
   "uri": "gcr.io/deeplearning-platform-release/base-cu110:latest"
  },
  "interpreter": {
   "hash": "73ab3bbf837c50f1695b8ee7143d79d1228d90b8268350da92241914b98975f1"
  },
  "kernelspec": {
   "display_name": "Python 3.7.11 64-bit ('vertex-scikit': venv)",
   "name": "python3"
  },
  "language_info": {
   "codemirror_mode": {
    "name": "ipython",
    "version": 3
   },
   "file_extension": ".py",
   "mimetype": "text/x-python",
   "name": "python",
   "nbconvert_exporter": "python",
   "pygments_lexer": "ipython3",
   "version": "3.7.11"
  }
 },
 "nbformat": 4,
 "nbformat_minor": 4
}
